{
 "cells": [
  {
   "cell_type": "markdown",
   "metadata": {},
   "source": [
    "# Lab 12 - Lab Exam #2\n",
    "**COMP130 - Introduction to Computing**  \n",
    "**Dickinson College**  "
   ]
  },
  {
   "cell_type": "markdown",
   "metadata": {},
   "source": [
    "### Name:"
   ]
  },
  {
   "cell_type": "markdown",
   "metadata": {},
   "source": []
  },
  {
   "cell_type": "markdown",
   "metadata": {},
   "source": [
    "### [10] __Q1:__ Sizing It Up\n",
    "\n",
    "Imagine writing a program for a fast-food ordering station. One question that would have to be asked frequently is the size of an item (drink, fries, etc...).  Write a fruitful function named `get_size` that prompts the user for the size of the item: `(S)mall, (M)edium or (L)arge`.  If the user enters an invalid size the function should prompt again until a valid size is entered. The user's choice should be case insensitive."
   ]
  },
  {
   "cell_type": "code",
   "execution_count": null,
   "metadata": {},
   "outputs": [],
   "source": []
  },
  {
   "cell_type": "markdown",
   "metadata": {},
   "source": [
    "### [20] __Q2:__ Password Strength\n",
    "\n",
    "Write a fruitful function named `password_strength` that accepts a `String` holding a password as an argument and returns the strength of that password as `weak`, `medium` or `strong`.  \n",
    "\n",
    "Password strength for this question is based on the the product (multiplication) of:\n",
    "- the length of the password,\n",
    "- the number of digits (0-9) in the password,\n",
    "- the number of special characters in the password. For this problem the special characters are: `@#$%&*?`\n",
    "\n",
    "Passwords are then rated as `weak`, `medium`, `strong` where a password with product:\n",
    "- less than 8 is `weak`.\n",
    "- between 9 and 20 is `medium`.\n",
    "- over 20 is `strong`."
   ]
  },
  {
   "cell_type": "code",
   "execution_count": null,
   "metadata": {},
   "outputs": [],
   "source": []
  },
  {
   "cell_type": "markdown",
   "metadata": {},
   "source": [
    "### [15] __Q3:__ Automated Testing\n",
    "\n",
    "Write a set of automated tests that check if your `password_strength` function from __Q2__ is working correctly. For full credit your tests should check all of the boundary cases.  NOTE: It is possible to write tests worth full credit here even if you did not correctly answer __Q2__."
   ]
  },
  {
   "cell_type": "code",
   "execution_count": null,
   "metadata": {},
   "outputs": [],
   "source": []
  },
  {
   "cell_type": "markdown",
   "metadata": {},
   "source": [
    "### [15] __Q4:__  A Round Map\n",
    "\n",
    "Write a fruitless function named `round_all` that takes two arguments:\n",
    "- a `List` of `float` values\n",
    "- an `int` value indicating the number of decimal places to which to round each value.\n",
    "\n",
    "Your function should *replace* each element of the `List` with its rounded value.\n",
    "\n",
    "Include a call to your `round_all` function and a `print` statement that displays the result.\n",
    "\n",
    "NOTE: Rounding a value like 3.20073 to 3 decimal places will result in 3.2, that is acceptable for this question.\n",
    "\n",
    "HINT: Recall that there is a built-in function that can help you."
   ]
  },
  {
   "cell_type": "code",
   "execution_count": null,
   "metadata": {},
   "outputs": [],
   "source": []
  },
  {
   "cell_type": "markdown",
   "metadata": {},
   "source": [
    "### [25] __Q5:__ OCR Correction\n",
    "\n",
    "Optical character recognition (OCR) is a technique for using computer vision to convert hand written text or old books and papers into electronic form.  One challenge with OCR is that occasionally a character cannot be recognized. In such a system, the computer can represent the unrecognized character using a `_`.  So for example, if the word being OCRed is `Book` and the computer did not recognize the second `o` it would represent the word as `Bo_k`. Humans can then read the OCRed file and fix the missing letters. To help these human readers it might be useful to have a program that when a word is missing a letter prints all of the possibilities for that word. For example for `Bo_k` the program might print `bock`, `book`, `bosk`.\n",
    "\n",
    "Write a program that prompts the user for a word containing __one__ (exactly one) `_` representing a missing letter.  The program should then use the `words.txt` file included in the `Lab12` folder and print out all of the possibilities for the word entered by the user.\n",
    "\n",
    "HINT: Consider using an incremental development process. This will get you going and help earn you partial credit. Maybe start by displaying all words of the same length as the one you are trying to match.  Also, recall that the `readline` includes a newline character on the end that you will need to remove. Then consider adding a boolean function that checks if two words (one with a blank, one without) are a match.  Start with a stub for this function and expand it."
   ]
  },
  {
   "cell_type": "code",
   "execution_count": null,
   "metadata": {},
   "outputs": [],
   "source": []
  }
 ],
 "metadata": {
  "kernelspec": {
   "display_name": "Python 3",
   "language": "python",
   "name": "python3"
  },
  "language_info": {
   "codemirror_mode": {
    "name": "ipython",
    "version": 3
   },
   "file_extension": ".py",
   "mimetype": "text/x-python",
   "name": "python",
   "nbconvert_exporter": "python",
   "pygments_lexer": "ipython3",
   "version": "3.7.3"
  }
 },
 "nbformat": 4,
 "nbformat_minor": 2
}
