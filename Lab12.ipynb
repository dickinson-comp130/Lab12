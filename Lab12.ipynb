{
 "cells": [
  {
   "cell_type": "markdown",
   "metadata": {},
   "source": [
    "# Lab 12 - Lab Exam #2\n",
    "**COMP130 - Introduction to Computing**  \n",
    "**Dickinson College**  "
   ]
  },
  {
   "cell_type": "markdown",
   "metadata": {},
   "source": [
    "### Name:"
   ]
  },
  {
   "cell_type": "markdown",
   "metadata": {},
   "source": []
  },
  {
   "cell_type": "markdown",
   "metadata": {},
   "source": [
    "### [10] __Q1:__ Sizing It Up\n",
    "\n",
    "Imagine writing a program for a fast-food ordering station. One question that would have to be asked frequently is the size of an item (drink, fries, etc...).  Write a fruitful function named `get_size` that prompts the user for the size of the item: `(S)mall, (M)edium or (L)arge`.  If the user enters an invalid size the function should prompt again until a valid size is entered. The user's choice should be case insensitive."
   ]
  },
  {
   "cell_type": "code",
   "execution_count": 1,
   "metadata": {},
   "outputs": [
    {
     "name": "stdout",
     "output_type": "stream",
     "text": [
      "(S)mall, (M)edium or (L)arge: x\n",
      "(S)mall, (M)edium or (L)arge: y\n",
      "(S)mall, (M)edium or (L)arge: l\n",
      "L\n"
     ]
    }
   ],
   "source": [
    "def get_size():\n",
    "    size = input('(S)mall, (M)edium or (L)arge: ')\n",
    "    size = size.upper()\n",
    "    while size != 'S' and size != 'M' and size != 'L':\n",
    "        size = input('(S)mall, (M)edium or (L)arge: ')\n",
    "        size = size.upper()\n",
    "        \n",
    "    return size\n",
    "\n",
    "print(get_size())"
   ]
  },
  {
   "cell_type": "markdown",
   "metadata": {},
   "source": [
    "### [20] __Q2:__ Password Strength\n",
    "\n",
    "Write a fruitful function named `password_strength` that accepts a `String` holding a password as an argument and returns the strength of that password as `weak`, `medium` or `strong`.  \n",
    "\n",
    "Password strength for this question is based on the the product (multiplication) of:\n",
    "- the length of the password,\n",
    "- the number of digits (0-9) in the password,\n",
    "- the number of special characters in the password. For this problem the special characters are: `@#$%&*?`\n",
    "\n",
    "Passwords are then rated as `weak`, `medium`, `strong` where a password with product:\n",
    "- less than 8 is `weak`.\n",
    "- between 9 and 20 is `medium`.\n",
    "- over 20 is `strong`."
   ]
  },
  {
   "cell_type": "code",
   "execution_count": 15,
   "metadata": {},
   "outputs": [
    {
     "name": "stdout",
     "output_type": "stream",
     "text": [
      "0\n",
      "weak\n",
      "9\n",
      "medium\n",
      "51\n",
      "strong\n"
     ]
    }
   ],
   "source": [
    "def password_strength(passwd):\n",
    "    digits = 0\n",
    "    special = 0\n",
    "    for ch in passwd:\n",
    "        if ch.isdigit():\n",
    "            digits += 1\n",
    "        elif ch in '@#$%&*?':\n",
    "            special += 1\n",
    "    \n",
    "    strength = len(passwd) * digits * special\n",
    "    \n",
    "    print(strength)\n",
    "\n",
    "    if strength < 8:\n",
    "        return 'weak'\n",
    "    elif strength <= 20:\n",
    "        return 'medium'\n",
    "    else:\n",
    "        return 'strong'\n",
    "    \n",
    "print(password_strength('nogood'))\n",
    "print(password_strength('this1soK?'))\n",
    "print(password_strength('way#B3tter&Stuff?'))"
   ]
  },
  {
   "cell_type": "markdown",
   "metadata": {},
   "source": [
    "### [15] __Q3:__ Automated Testing\n",
    "\n",
    "Write a set of automated tests that check if your `password_strength` function from __Q2__ is working correctly. For full credit your tests should check all of the boundary cases.  NOTE: It is possible to write tests worth full credit here even if you did not correctly answer __Q2__."
   ]
  },
  {
   "cell_type": "code",
   "execution_count": 27,
   "metadata": {},
   "outputs": [
    {
     "name": "stdout",
     "output_type": "stream",
     "text": [
      "7\n",
      "8\n",
      "20\n",
      "21\n",
      "Success!\n"
     ]
    }
   ],
   "source": [
    "strength_7 = 'p@sw0rd'\n",
    "assert password_strength(strength_7)=='weak', 'Should be a weak password'\n",
    "strength_8 = 'p@ssw0rd'\n",
    "assert password_strength(strength_8)=='medium', 'Should be a medium password'\n",
    "strength_20 = 't3n1etter$'\n",
    "assert password_strength(strength_20)=='medium', 'Should be a medium password'\n",
    "strength_21 = '$ev3n%$'\n",
    "assert password_strength(strength_21)=='strong', 'Should be a strong password'\n",
    "\n",
    "print('Success!')"
   ]
  },
  {
   "cell_type": "markdown",
   "metadata": {},
   "source": [
    "### [15] __Q4:__  A Round Map\n",
    "\n",
    "Write a fruitless function named `round_all` that takes two arguments:\n",
    "- a `List` of `float` values\n",
    "- an `int` value indicating the number of decimal places to which to round each value.\n",
    "\n",
    "Your function should *replace* each element of the `List` with its rounded value.\n",
    "\n",
    "Include a call to your `round_all` function and a `print` statement that displays the result.\n",
    "\n",
    "NOTE: Rounding a value like 3.20073 to 3 decimal places will result in 3.2, that is acceptable for this question.\n",
    "\n",
    "HINT: Recall that there is a built-in function that can help you."
   ]
  },
  {
   "cell_type": "code",
   "execution_count": 32,
   "metadata": {},
   "outputs": [
    {
     "name": "stdout",
     "output_type": "stream",
     "text": [
      "[1.23, 2.3, 3.46, 4.57, 5.78]\n"
     ]
    }
   ],
   "source": [
    "def round_all(nums, places):\n",
    "    for i in range(len(nums)):\n",
    "        nums[i] = round(nums[i], places)\n",
    "    \n",
    "nums = [1.2345, 2.30007, 3.4567, 4.5678, 5.7789]\n",
    "round_all(nums, 2)\n",
    "print(nums)"
   ]
  },
  {
   "cell_type": "markdown",
   "metadata": {},
   "source": [
    "### [25] __Q5:__ OCR Correction\n",
    "\n",
    "Optical character recognition (OCR) is a technique for using computer vision to convert hand written text or old books and papers into electronic form.  One challenge with OCR is that occasionally a character cannot be recognized. In such a system, the computer can represent the unrecognized character using a `_`.  So for example, if the word being OCRed is `Book` and the computer did not recognize the second `o` it would represent the word as `Bo_k`. Humans can then read the OCRed file and fix the missing letters. To help these human readers it might be useful to have a program that when a word is missing a letter prints all of the possibilities for that word. For example for `Bo_k` the program might print `bock`, `book`, `bosk`.\n",
    "\n",
    "Write a program that prompts the user for a word containing __one__ (exactly one) `_` representing a missing letter.  The program should then use the `words.txt` file included in the `Lab12` folder and print out all of the possibilities for the word entered by the user.\n",
    "\n",
    "HINT: Consider using an incremental development process.  Maybe start by displaying all words of the same length as you are trying to match.  Recall that `readline` includes a newline character on the end that you'll need to remove. Then consider adding a boolean function that checks if two words (one with a blank, one without) are a match."
   ]
  },
  {
   "cell_type": "code",
   "execution_count": 3,
   "metadata": {},
   "outputs": [
    {
     "name": "stdout",
     "output_type": "stream",
     "text": [
      "Enter an OCR word with a _ : Bo_k\n",
      "bock\n",
      "book\n",
      "bosk\n"
     ]
    }
   ],
   "source": [
    "def is_match(ocr_word, word):\n",
    "    if len(ocr_word) == len(word):\n",
    "        \n",
    "        # Replace the _ in ocr_word with the character at the same location in word.\n",
    "        index = ocr_word.find('_')\n",
    "        mod_ocr_word = ocr_word.replace('_', word[index])\n",
    "\n",
    "        return mod_ocr_word == word\n",
    "\n",
    "    else:\n",
    "        return False\n",
    "    \n",
    "    \n",
    "ocr_word = input(\"Enter an OCR word with a _ : \")\n",
    "ocr_word = ocr_word.lower()\n",
    "\n",
    "in_file = open('words.txt')\n",
    "word = in_file.readline().strip()\n",
    "while word:\n",
    "    if is_match(ocr_word, word.lower()):\n",
    "        print(word)\n",
    "        \n",
    "    word = in_file.readline().strip()\n",
    "    \n",
    "in_file.close()\n"
   ]
  },
  {
   "cell_type": "code",
   "execution_count": 50,
   "metadata": {},
   "outputs": [
    {
     "name": "stdout",
     "output_type": "stream",
     "text": [
      "Success!\n"
     ]
    }
   ],
   "source": [
    "assert is_match('_ook', 'look'), 'incorrect with missing first char'\n",
    "assert is_match('bo_k', 'bonk'), 'incorrect with missing middle char'\n",
    "assert is_match('boo_', 'bool'), 'incorrect with missing last char'\n",
    "print('Success!')"
   ]
  }
 ],
 "metadata": {
  "kernelspec": {
   "display_name": "Python 3",
   "language": "python",
   "name": "python3"
  }
 },
 "nbformat": 4,
 "nbformat_minor": 2
}
